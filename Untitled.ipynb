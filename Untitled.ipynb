{
 "cells": [
  {
   "cell_type": "code",
   "execution_count": null,
   "id": "9e6c3723",
   "metadata": {},
   "outputs": [],
   "source": [
    "# 安装 mmcv -full\n",
    "!pip install mmcv-full -f https://download.openmmlab.com/mmcv/dist/cu113/torch1.10.0/index.html\n",
    "# 安装其它工具包\n",
    "!pip install ipywidgets tqdm imageio-ffmpeg ninja opencv-python prettytable -i https://pypi.tuna.tsinghua.edu.cn/simple\n",
    "# 从github上下载最新的 mmgeneration 源代码\n",
    "!git clone https://github.com/open-mmlab/mmgeneration.git"
   ]
  },
  {
   "cell_type": "code",
   "execution_count": 3,
   "id": "bf7cb178",
   "metadata": {},
   "outputs": [
    {
     "name": "stderr",
     "output_type": "stream",
     "text": [
      "'git' 不是内部或外部命令，也不是可运行的程序\n",
      "或批处理文件。\n"
     ]
    }
   ],
   "source": [
    "!git clone https://github.com/open-mmlab/mmgeneration.git\n",
    "https://github.com/open-mmlab/mmgeneration.git\n",
    "    "
   ]
  },
  {
   "cell_type": "code",
   "execution_count": null,
   "id": "de82be5c",
   "metadata": {},
   "outputs": [],
   "source": [
    "# 进入 mmgeneration 主目录\n",
    "import os\n",
    "os.chdir('mmgeneration')"
   ]
  },
  {
   "cell_type": "code",
   "execution_count": null,
   "id": "b036b83b",
   "metadata": {},
   "outputs": [],
   "source": [
    "!pip install -r requirements.txt\n",
    "!pip install -v -e ."
   ]
  }
 ],
 "metadata": {
  "kernelspec": {
   "display_name": "DL",
   "language": "python",
   "name": "dl"
  },
  "language_info": {
   "codemirror_mode": {
    "name": "ipython",
    "version": 3
   },
   "file_extension": ".py",
   "mimetype": "text/x-python",
   "name": "python",
   "nbconvert_exporter": "python",
   "pygments_lexer": "ipython3",
   "version": "3.9.18"
  }
 },
 "nbformat": 4,
 "nbformat_minor": 5
}
